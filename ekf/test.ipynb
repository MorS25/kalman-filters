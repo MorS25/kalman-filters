{
 "cells": [
  {
   "cell_type": "markdown",
   "metadata": {},
   "source": [
    "PROWLER.io Coding Challenge\n",
    "===\n",
    "\n",
    "Description of the Disjoint Set\n",
    "\n",
    "------\n",
    "\n",
    "### Problem\n",
    "\n",
    "There are `N` players on the field passing the ball to each other. Initially, the ball can be dropped to any player on the field. The player possessing the ball can throw it to another one _if and only if_ they see one another. The group of players which can pass the ball between themselfs form a team. There is a chance that the player, which got the ball in the beginning, doesn't see anybody and thereafter he makes its own 'lordly' team. The task is to find the team with largest number of members.\n",
    "\n",
    "The players and their visibily are described in a file with following format:\n",
    "\n",
    "- File contains `M` lines, where `M > 0` and can be less, equal or greater than `N`, number of players\n",
    "- Each line is a separated by comma player names (or ids)\n",
    "- First player name in the list belongs to the _key_ player. This is a player which potentially can have the ball and the rest of the list are other player which he can see, there is no guarantee that opposite is true."
   ]
  },
  {
   "cell_type": "code",
   "execution_count": 13,
   "metadata": {
    "collapsed": true
   },
   "outputs": [],
   "source": [
    "# Players description file example\n",
    "\n",
    "players = \"\"\"George,Beth, Sue\n",
    "             Rick,Anne\n",
    "             Anne,  Beth\n",
    "             Beth, Anne,George\n",
    "             Sue, Beth\"\"\""
   ]
  },
  {
   "cell_type": "markdown",
   "metadata": {},
   "source": [
    "### Graph representation\n",
    "\n",
    "Let's convert English description of the challenge to Computer Science terminology. The players are vertices in a graph. Visibility some of the players to one particular player can be expressed as outgoing directed edges. Taking into account these definitions of vertices and edges, we can build the graph using player description file. For e.g. we have an input file:"
   ]
  },
  {
   "cell_type": "code",
   "execution_count": 14,
   "metadata": {
    "collapsed": true
   },
   "outputs": [],
   "source": [
    "# Graph declaration and in the same time it is a players description file with wierd player's names\n",
    "\n",
    "graph = \"\"\"A,C,B\n",
    "           B,A,D\n",
    "           C,A,F\n",
    "           D,C,B\n",
    "           F,E\n",
    "           E,F\n",
    "           K,L\"\"\""
   ]
  },
  {
   "cell_type": "markdown",
   "metadata": {},
   "source": [
    "Then our graph looks like:\n",
    "\n",
    "![Directed Graph](images/directed.png)\n",
    "\n",
    "Once we build the directed graph, nothing prevents us from finding largest team using simple traversing algorithms, BFS or DFS, and marking visited vertices and cetera. Hold on! Wait! Is that really true?! Of course not. There is one important property that we have to remember: the ball can move from player to player _iif_ they see each other. In fact, the \"visibility\" property gives us a credit to boil down the _directed graph_ into _undirected graph_. The previous must be transformed into:\n",
    "\n",
    "![Undirected Graph](images/undirected.png)\n",
    "\n",
    "You may notice that now we observe distinct connected components. In fact, these components are player's teams. So, after this modification we are able to run traversing DFS or BFS on undirected graph, keeping list of visited vertices and stack of unexplored vertices, meanwhile counting members of a connected component. But, there is simpler way to accomplish the same task - disjoint set.\n",
    "\n",
    "### Disjoint Set\n",
    "\n",
    "Disjoint set is a data structure which speaks for itself. E.g. connected components of the undirected graph above can be seen as:"
   ]
  },
  {
   "cell_type": "code",
   "execution_count": 21,
   "metadata": {
    "collapsed": false
   },
   "outputs": [
    {
     "data": {
      "text/plain": [
       "{\"['A', 'B', 'C', 'D']\", \"['E', 'F']\", \"['K']\", \"['L']\"}"
      ]
     },
     "execution_count": 21,
     "metadata": {},
     "output_type": "execute_result"
    }
   ],
   "source": [
    "# str() conversiononly here is only for errors suppression\n",
    "\n",
    "subset1 = str(['A', 'B', 'C', 'D'])\n",
    "subset2 = str(['E', 'F'])\n",
    "subset3 = str(['K'])\n",
    "subset4 = str(['L'])\n",
    "disjoint_set = set([subset1, subset2, subset3, subset4])\n",
    "disjoint_set"
   ]
  },
  {
   "cell_type": "markdown",
   "metadata": {},
   "source": [
    "More interesting what is behind of this datas tructure, in other words how it can be implemented.\n",
    "\n",
    "In conception of sets the connected components of the graph are not tied with each other with particular edges, so we can say that all items in the set are linked via invisible edges composing a clique. With relaxing connection property we got an opportunity to use another data structure like trees.\n",
    "\n",
    "Each subset is represented as a tree with properties:\n",
    "\n",
    "- All vertices in a tree are unique and not shared with other trees\n",
    "- Root vertex has a self-link\n",
    "- Root vertex acts as the index of the set\n",
    "- Non-root vertices point to their parents\n",
    "- Each tree has a rank metric - number of unions were made to construct the tree.\n",
    "- Links have nothing to do with edges from source graph (It is not a property, just clarification)\n",
    "\n",
    "The disjoint set datastructure has two major operations:\n",
    "\n",
    "- Find set to which vertex belongs to\n",
    "- Union of two sets\n",
    "\n",
    "Let's take a look at an example. We have 6-element set. In disjoint set all of them are individual subsets and they are all roots. Initially, 1 size set has 0 rank.\n",
    "\n",
    "![Initial State](images/1.png)\n",
    "\n",
    "Then we explore that there are some undirected edges in the graph between 1 and 2. At first, we search roots of sets where 1 and 2 are located. Apparently, they are only vertices in their sets, and we can just union them building new set, with one condition: root of the set with larger rank becomes parent for smaller one. Both 1 and 2 roots have equal ranks, then new root is chosen randomly, in our case new root is 1:\n",
    "\n",
    "![Initial State](images/2.png)\n",
    "\n",
    "Same story happens with 3 and 4 vertices:\n",
    "\n",
    "![Initial State](images/3.png)\n",
    "\n",
    "It is time to merge sets larger than one. As you can see, we merged set 4 with 1. The 1 won the tournament for root's power again getting rank 2.\n",
    "\n",
    "![Initial State](images/4.png)\n",
    "\n",
    "New edge is appeared between 5 and 6. Their sets are merged into set with root 5. Rank 1 is assigned to the outcome set.\n",
    "\n",
    "![Initial State](images/5.png)\n",
    "\n",
    "Nothing interesting again?! Just merging sets with index 5 and 1. Powerful set 1 gets more points - rank 3. It is getting dangerous, isn't it? The depth of tree is growing. What if we had seen edge between 5th and 3rd vertices instead of 5th and 1st? We would get the same unstoppable set 1, but with depth 5. So, whenever there is a new vertex on horizon, we must to perform operation _find set_ and for now it will cost us `O(V)`, where `V` is a number of vertices. We can make it better.\n",
    "\n",
    "![Initial State](images/6.png)\n",
    "\n",
    "Now, we have an edge between 7th and 3rd vertices on our plate. Because 7 is new vertex for disjoint set, it is added and made as root for itself. Then, according to _adding an edge_ procedure in disjoint set, first we search for 7th and 3rd roots getting 7th and 1th vertices correspondingly. In latest example we have seen that _find set_ operation costs `O(V)`, here we will optimize it up to `O(a(V))`, where **`a(V)` is about 1**. During _find set_ operation we keep list of all visited nodes along path from requested vertex towards to the root. Here, path is `[3, 4]`.\n",
    "\n",
    "![Initial State](images/7.png)\n",
    "\n",
    "Once we get our path, we update parent links of path vertices to the root's value. Then _union_ operation links 7th vertex to 1th root, where 7th becomes its descendant. 1st set gets rank 4th:\n",
    "\n",
    "![Initial State](images/8.png)\n",
    "\n",
    "Because union operation entirely depends on _find set_ procedure, the cost for it also equals `O(a(n))`.\n",
    "\n",
    "That's it. It is very simple data structure with good properties for solving this task."
   ]
  },
  {
   "cell_type": "markdown",
   "metadata": {
    "collapsed": true
   },
   "source": [
    "### Examples\n",
    "\n",
    "Consider previous graph as an example. The largest connected component should be equal 4."
   ]
  },
  {
   "cell_type": "code",
   "execution_count": 10,
   "metadata": {
    "collapsed": false
   },
   "outputs": [
    {
     "name": "stdout",
     "output_type": "stream",
     "text": [
      "4\n"
     ]
    }
   ],
   "source": [
    "import prowler\n",
    "\n",
    "graph = \"\"\"A,C,B\n",
    "           B,A,D\n",
    "           C,A,F\n",
    "           D,C,B\n",
    "           F,E\n",
    "           E,F\n",
    "           K,L\"\"\"\n",
    "\n",
    "# Parse input players description\n",
    "lines = graph.split(\"\\n\")\n",
    "game = prowler.PassBallGame()\n",
    "players = [game.parse_player_input(line) for line in lines]\n",
    "\n",
    "# Add players to the game\n",
    "_ = [game.add_player(*player) for player in players]\n",
    "\n",
    "# Print largest team\n",
    "print(game.largest_team)"
   ]
  },
  {
   "cell_type": "markdown",
   "metadata": {},
   "source": [
    "### Major parts of ballgame code\n",
    "\n",
    "1) Transformation from directed to undirected graph:"
   ]
  },
  {
   "cell_type": "code",
   "execution_count": 12,
   "metadata": {
    "collapsed": true
   },
   "outputs": [],
   "source": [
    "    def add_player(self, player, visible_players=[]):\n",
    "        \"\"\"\n",
    "        Adds new player to the game.\n",
    "\n",
    "        Args:\n",
    "            player: Id of the player.\n",
    "            visible_players: List of players which the player can see.\n",
    "        \"\"\"\n",
    "        self._disjoint.add_vertex(player)\n",
    "\n",
    "        for visible_player in visible_players:\n",
    "            self._disjoint.add_vertex(visible_player)\n",
    "\n",
    "            edge = (player, visible_player)\n",
    "            self._see_each_other.add(edge)\n",
    "\n",
    "            edge_reversed = edge[::-1]\n",
    "            if edge_reversed in self._see_each_other:\n",
    "                self._disjoint.add_edge(edge)"
   ]
  },
  {
   "cell_type": "markdown",
   "metadata": {},
   "source": [
    "2) _Find set_ procedure in disjoint set data structure:"
   ]
  },
  {
   "cell_type": "code",
   "execution_count": 14,
   "metadata": {
    "collapsed": true
   },
   "outputs": [],
   "source": [
    "    def _find_root(self, vertex):\n",
    "        \"\"\"\n",
    "        Finds the root of set to which vertex belongs to.\n",
    "\n",
    "        Args:\n",
    "            vertex:\n",
    "        \"\"\"\n",
    "        if not self.exists(vertex):\n",
    "            raise ValueError('Input vertex \"{vertex}\" does not exist'\n",
    "                             .format(vertex=vertex))\n",
    "\n",
    "        path = []\n",
    "        current, parent = vertex, self._vertex_parent(vertex)\n",
    "        while current != parent:\n",
    "            path.append(current)\n",
    "            current, parent = parent, self._vertex_parent(parent)\n",
    "\n",
    "        # Path compression\n",
    "        if len(path) > 1:\n",
    "            for path_vertex in path:\n",
    "                self._set_vertex_parent(path_vertex, parent)\n",
    "\n",
    "        return parent"
   ]
  },
  {
   "cell_type": "markdown",
   "metadata": {},
   "source": [
    "3) Union operation for two subsets:"
   ]
  },
  {
   "cell_type": "code",
   "execution_count": 15,
   "metadata": {
    "collapsed": true
   },
   "outputs": [],
   "source": [
    "    def _union(self, a_root, b_root):\n",
    "        \"\"\"\n",
    "        Makes union of two sets specified by their roots.\n",
    "        The combined set will have vertex with highest rank.\n",
    "        The root of union gets rank equals `higest rank + 1`.\n",
    "        If both vertices have equal ranks, then new root is\n",
    "        chosen randomly.\n",
    "\n",
    "        Args:\n",
    "            a_root: Vertex value, which points to itself.\n",
    "            b_root: Vertex value, which points to itself\n",
    "\n",
    "        Raises:\n",
    "            ValueError: Whenever vertices are not roots, i.e.\n",
    "                        they don't have self-links.\n",
    "\n",
    "        \"\"\"\n",
    "\n",
    "        err = 'Union for non root vertex \"{vertex}\" cannot be performed'\n",
    "\n",
    "        if not self._is_root(a_root):\n",
    "            raise ValueError(err.format(vertex=a_root))\n",
    "\n",
    "        if not self._is_root(b_root):\n",
    "            raise ValueError(err.format(vertex=b_root))\n",
    "\n",
    "        if a_root == b_root:\n",
    "            return\n",
    "\n",
    "        a_rank = self._root_rank(a_root)\n",
    "        b_rank = self._root_rank(b_root)\n",
    "\n",
    "        # NOTE: Root with larger rank will set as root for new composed union.\n",
    "        #       If ranks are equal, then `a_root` node becomes new root and\n",
    "        #       `b_root` turns to the `a_root` descendant.\n",
    "        if a_rank < b_rank:\n",
    "            a_root, b_root = b_root, a_root\n",
    "\n",
    "        self._set_root_rank(b_root, 0)\n",
    "        self._set_vertex_parent(b_root, a_root)\n",
    "        self._set_root_rank(a_root, a_rank + 1)\n",
    "        self._steal_count(a_root, b_root)\n",
    "        self._update_largest_set(a_root)"
   ]
  },
  {
   "cell_type": "markdown",
   "metadata": {},
   "source": [
    "## Thank you for reading!"
   ]
  }
 ],
 "metadata": {
  "anaconda-cloud": {},
  "kernelspec": {
   "display_name": "Python [conda env:keras]",
   "language": "python",
   "name": "conda-env-keras-py"
  },
  "language_info": {
   "codemirror_mode": {
    "name": "ipython",
    "version": 3
   },
   "file_extension": ".py",
   "mimetype": "text/x-python",
   "name": "python",
   "nbconvert_exporter": "python",
   "pygments_lexer": "ipython3",
   "version": "3.5.2"
  }
 },
 "nbformat": 4,
 "nbformat_minor": 1
}
